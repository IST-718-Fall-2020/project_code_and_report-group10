{
  "nbformat": 4,
  "nbformat_minor": 0,
  "metadata": {
    "colab": {
      "name": "Code",
      "provenance": []
    },
    "kernelspec": {
      "name": "python3",
      "display_name": "Python 3"
    }
  },
  "cells": [
    {
      "cell_type": "code",
      "metadata": {
        "colab": {
          "base_uri": "https://localhost:8080/"
        },
        "id": "45JZ8-JVYbIN",
        "outputId": "fe486d26-40f3-4aab-ded7-fba866c871f5"
      },
      "source": [
        "# Load Data\n",
        "%%bash\n",
        "pip install pyspark\n",
        "# Download the data files from github\n",
        "# If the data file does not exist in the colab environment\n",
        "if [[ ! -f ./players_20.csv ]]; then \n",
        "   # download the data file from github and save it in this colab environment instance\n",
        "   wget https://raw.githubusercontent.com/Kun97/FIFA20_DataAnalysis/main/players_20.csv\n",
        "fi"
      ],
      "execution_count": null,
      "outputs": []
    },
    {
      "cell_type": "code",
      "metadata": {
        "id": "R5BV-PgYYYtu"
      },
      "source": [
        "# The first code cell of your notebook shall include all needed imports to run your project code.  Note that\n",
        "# there can be markdown cells above this cell.\n",
        "import numpy as np\n",
        "import pandas as pd\n",
        "import seaborn as sns\n",
        "from pyspark.sql import SparkSession\n",
        "from pyspark.sql.functions import col, lit, split, isnan, when, count, isnull, udf, asc\n",
        "from pyspark.ml import Pipeline\n",
        "from pyspark.ml.feature import StringIndexerModel, StringIndexer, OneHotEncoder, StandardScaler, PCA, VectorAssembler\n",
        "from matplotlib import pyplot as plt\n",
        "from pyspark.sql.types import FloatType, IntegerType, DoubleType\n",
        "from pyspark.ml.clustering import KMeans\n",
        "from pyspark.ml.evaluation import ClusteringEvaluator, RegressionEvaluator, MulticlassClassificationEvaluator, BinaryClassificationEvaluator\n",
        "from pyspark.ml.regression import LinearRegression, RandomForestRegressor, GBTRegressor\n",
        "from pyspark.ml.tuning import CrossValidator, ParamGridBuilder\n",
        "from pyspark.ml.classification import LogisticRegression, RandomForestClassifier"
      ],
      "execution_count": null,
      "outputs": []
    },
    {
      "cell_type": "code",
      "metadata": {
        "id": "zoulHi-UYwOB"
      },
      "source": [
        "spark = SparkSession.builder.master(\"local[*]\").getOrCreate()\n",
        "sc = spark.sparkContext"
      ],
      "execution_count": null,
      "outputs": []
    },
    {
      "source": [
        "## loading data"
      ],
      "cell_type": "markdown",
      "metadata": {}
    },
    {
      "cell_type": "code",
      "metadata": {
        "id": "XoUAYDsWY0sp"
      },
      "source": [
        "original_data = spark.read.csv(\"players_20.csv\", inferSchema=True, header=True)"
      ],
      "execution_count": null,
      "outputs": []
    },
    {
      "source": [
        "## Data exploration"
      ],
      "cell_type": "markdown",
      "metadata": {}
    },
    {
      "source": [
        "### statistic summary"
      ],
      "cell_type": "markdown",
      "metadata": {}
    },
    {
      "cell_type": "code",
      "metadata": {
        "colab": {
          "base_uri": "https://localhost:8080/",
          "height": 297
        },
        "id": "eU0hcUJe5iX0",
        "outputId": "37a9c893-92ac-47d6-b693-cbdff0e7a9c3"
      },
      "source": [
        "statistic_col = ['age', 'height_cm', 'weight_kg', 'overall', 'value_eur', 'wage_eur', 'release_clause_eur']\n",
        "statistic_data = original_data.select(statistic_col).toPandas()\n",
        "statistic_data.describe()"
      ],
      "execution_count": null,
      "outputs": []
    },
    {
      "source": [
        "### visualization"
      ],
      "cell_type": "markdown",
      "metadata": {}
    },
    {
      "cell_type": "code",
      "metadata": {
        "colab": {
          "base_uri": "https://localhost:8080/",
          "height": 696
        },
        "id": "8n6UoePE7qCs",
        "outputId": "77ff1ccf-de12-4d4a-d47a-1e49febb9fc3"
      },
      "source": [
        "plt.rc('ytick', labelsize=15)\n",
        "plt.rc('xtick', labelsize=15)\n",
        "plt.figure(figsize=(13,10))\n",
        "corr = statistic_data.corr()\n",
        "ax = sns.heatmap(corr, \n",
        "        xticklabels=['Age', 'Height', 'Weight', 'Overall Score', 'Value', 'Wage', 'Buyout Fee'],\n",
        "        yticklabels=['Age', 'Height', 'Weight', 'Overall Score', 'Value', 'Wage', 'Buyout Fee'])\n",
        "ax.set_xticklabels(\n",
        "    ax.get_xticklabels(),\n",
        "    rotation=45\n",
        ")\n",
        "ax.set_yticklabels(\n",
        "    ax.get_yticklabels(),\n",
        "    rotation=0\n",
        ")\n",
        "plt.title('Correlation heatmap')"
      ],
      "execution_count": null,
      "outputs": []
    },
    {
      "cell_type": "code",
      "metadata": {
        "colab": {
          "base_uri": "https://localhost:8080/",
          "height": 363
        },
        "id": "-6NfDKcM5jLv",
        "outputId": "92df7b53-1b30-487b-9afe-cab027cd7966"
      },
      "source": [
        "plot_data = original_data.select(['age', 'nationality', 'player_positions', 'preferred_foot', 'club', 'overall']).toPandas()\n",
        "plt.rc('font', size=18)\n",
        "sns.distplot(plot_data['age'], bins=26, hist_kws=dict(edgecolor=\"k\", linewidth=2))"
      ],
      "execution_count": null,
      "outputs": []
    },
    {
      "cell_type": "code",
      "metadata": {
        "colab": {
          "base_uri": "https://localhost:8080/",
          "height": 758
        },
        "id": "uzrieOTg5jfw",
        "outputId": "152ca0b7-304d-4b64-c9ae-73d894d67129"
      },
      "source": [
        "plt.rc('font', size=18)\n",
        "plt.figure(figsize=(20,10))\n",
        "plt.xticks(rotation=70)\n",
        "plt.grid(axis='y')\n",
        "plt.bar(plot_data.nationality.value_counts()[:30].index, plot_data.nationality.value_counts()[:30], color = '#F76900', edgecolor = 'none')\n",
        "plt.title('Each Nationality Player Count')"
      ],
      "execution_count": null,
      "outputs": []
    },
    {
      "cell_type": "code",
      "metadata": {
        "colab": {
          "base_uri": "https://localhost:8080/",
          "height": 636
        },
        "id": "0Gb_DKho5jmz",
        "outputId": "b1a2a971-19ea-41b9-a553-994f9804b7a2"
      },
      "source": [
        "position = plot_data.player_positions.str.split(',', expand=True)\n",
        "plt.rc('font', size=18)\n",
        "plt.figure(figsize=(20,10))\n",
        "plt.grid(axis='y')\n",
        "plt.bar(position.iloc[:,0].value_counts()[:30].index, position.iloc[:,0].value_counts()[:30], color = '#F76900', edgecolor = 'none')\n",
        "plt.title('Position')\n"
      ],
      "execution_count": null,
      "outputs": []
    },
    {
      "cell_type": "code",
      "metadata": {
        "colab": {
          "base_uri": "https://localhost:8080/",
          "height": 614
        },
        "id": "Rhvi0eVL5jw6",
        "outputId": "65cde92e-da2e-4938-8f1f-d47043183bb3"
      },
      "source": [
        "plt.figure(figsize=(20,10))\n",
        "plot_data.groupby('preferred_foot').size().plot(kind='pie', autopct='%.2f%%', explode = (0.1, 0), shadow=True, startangle=90)\n",
        "plt.title('Distribution of different preferred foot')"
      ],
      "execution_count": null,
      "outputs": []
    },
    {
      "cell_type": "code",
      "metadata": {
        "id": "QYZhvqZk5kDM"
      },
      "source": [
        "sort_data = plot_data[plot_data['overall'] > 82]\n",
        "sort_data = sort_data['club'].value_counts()[sort_data['club'].value_counts()>1]"
      ],
      "execution_count": null,
      "outputs": []
    },
    {
      "cell_type": "code",
      "metadata": {
        "colab": {
          "base_uri": "https://localhost:8080/",
          "height": 778
        },
        "id": "SEyaC3tM5kQ4",
        "outputId": "6ded3578-695d-4b20-bf12-c36670bc7bda"
      },
      "source": [
        "plt.rc('font', size=20)\n",
        "plt.rc('xtick', labelsize=10)\n",
        "plt.figure(figsize=(20,10))\n",
        "plt.grid(axis='y')\n",
        "plt.xticks(rotation=90)\n",
        "plt.bar(sort_data.index, sort_data, color = 'teal', edgecolor = 'none')\n",
        "plt.ylim((0, 18) )\n",
        "plt.title('Soccer Clubs With At Least two 83+ players')\n",
        "plt.show()"
      ],
      "execution_count": null,
      "outputs": []
    },
    {
      "source": [
        "## data preprocessing"
      ],
      "cell_type": "markdown",
      "metadata": {
        "id": "5MCv_YtL5kdR"
      }
    },
    {
      "cell_type": "code",
      "metadata": {
        "id": "oB3qiwATahEn"
      },
      "source": [
        "# drop useless columns\n",
        "drop1_columns = ['sofifa_id', 'player_url', 'long_name', 'player_tags', 'player_traits', 'real_face', 'nation_jersey_number', 'team_jersey_number', 'loaned_from', 'joined', 'contract_valid_until']\n",
        "fixed1_Data = original_data.drop(*drop1_columns)"
      ],
      "execution_count": null,
      "outputs": []
    },
    {
      "cell_type": "code",
      "metadata": {
        "id": "i4u6vfWtaju7"
      },
      "source": [
        "# drop position ability(duplicated and will affect the final result)\n",
        "drop2_columns = fixed1_Data.columns[-26:]\n",
        "fixed2_Data = fixed1_Data.drop(*drop2_columns)"
      ],
      "execution_count": null,
      "outputs": []
    },
    {
      "cell_type": "code",
      "metadata": {
        "id": "yThhmgymAJz0"
      },
      "source": [
        "# drop duplicated columns\n",
        "drop3_columns = ['wage_eur', 'team_position', 'release_clause_eur', 'nation_position', 'gk_diving', 'gk_handling', 'gk_kicking', 'gk_reflexes', 'gk_speed', 'gk_positioning', 'pace', 'shooting', 'passing', 'dribbling', 'defending', 'physic']\n",
        "fixed3_Data = fixed2_Data.drop(*drop3_columns)"
      ],
      "execution_count": null,
      "outputs": []
    },
    {
      "cell_type": "code",
      "metadata": {
        "id": "9tvzux32IDWk"
      },
      "source": [
        "# split player_positions and choose the first position as primary position\n",
        "split_col = split(fixed3_Data['player_positions'], ',')\n",
        "position_data = fixed3_Data.withColumn('Position', split_col.getItem(0))\n",
        "position_data = position_data.drop('player_positions')"
      ],
      "execution_count": null,
      "outputs": []
    },
    {
      "cell_type": "code",
      "metadata": {
        "id": "MxDYF5MVh61J"
      },
      "source": [
        "# split work_Rate \n",
        "split_col = split(position_data['work_rate'], '/')\n",
        "position_data = position_data.withColumn('Attack_workrate', split_col.getItem(0))\n",
        "position_data = position_data.withColumn('Defend_workrate', split_col.getItem(1))\n",
        "position_data = position_data.drop('work_rate')"
      ],
      "execution_count": null,
      "outputs": []
    },
    {
      "cell_type": "code",
      "metadata": {
        "colab": {
          "base_uri": "https://localhost:8080/"
        },
        "id": "ZCPifnT6AkbR",
        "outputId": "5b588645-b1de-44e4-e9b5-016e56ba29e3"
      },
      "source": [
        "# narrow down positions: defender\n",
        "defender = ['LCB', 'RCB', 'LB', 'RB', 'CB', 'RWB', 'LWB']\n",
        "defender_data = position_data.filter(col('Position').isin(defender)).withColumn('Positon_General', lit('Defender'))\n",
        "defender_data.count()"
      ],
      "execution_count": null,
      "outputs": []
    },
    {
      "cell_type": "code",
      "metadata": {
        "colab": {
          "base_uri": "https://localhost:8080/"
        },
        "id": "KveIQxvtCTid",
        "outputId": "1d49a8ce-9256-4667-f2f7-e4fc0b8272f2"
      },
      "source": [
        "# midfileder\n",
        "midfileder = ['LCM', 'LM', 'RDM', 'CAM', 'RAM', 'RCM', 'CM', 'CDM', 'RM', 'LAM', 'LDM']\n",
        "midfileder_data = position_data.filter(col('Position').isin(midfileder)).withColumn('Positon_General', lit('Midfileder'))\n",
        "midfileder_data.count()"
      ],
      "execution_count": null,
      "outputs": []
    },
    {
      "cell_type": "code",
      "metadata": {
        "colab": {
          "base_uri": "https://localhost:8080/"
        },
        "id": "JVkt2BxDZYao",
        "outputId": "1a86e380-2e88-4cbb-d5d7-45a279c801c4"
      },
      "source": [
        "# attacker\n",
        "attacker = ['ST', 'CF', 'LW', 'RW']\n",
        "attacker_data = position_data.filter(col('Position').isin(attacker)).withColumn('Positon_General', lit('Attacker'))\n",
        "attacker_data.count()"
      ],
      "execution_count": null,
      "outputs": []
    },
    {
      "cell_type": "code",
      "metadata": {
        "colab": {
          "base_uri": "https://localhost:8080/"
        },
        "id": "EE4sL882ZkBT",
        "outputId": "882cdc4e-b8cc-4ca6-bb27-9b9e8840a3d5"
      },
      "source": [
        "# goal keeper\n",
        "gk_data = position_data.filter(col('Position').isin(['GK'])).withColumn('Positon_General', lit('GK'))\n",
        "gk_data.count()"
      ],
      "execution_count": null,
      "outputs": []
    },
    {
      "cell_type": "code",
      "metadata": {
        "id": "CBUcnSGXEuUm"
      },
      "source": [
        "general_data = defender_data.union(midfileder_data).union(attacker_data).union(gk_data)"
      ],
      "execution_count": null,
      "outputs": []
    },
    {
      "cell_type": "code",
      "metadata": {
        "colab": {
          "base_uri": "https://localhost:8080/"
        },
        "id": "7VPitywSY4Sm",
        "outputId": "8ebbb6b6-8848-4399-f248-78cfea0204b3"
      },
      "source": [
        "# missing values: \n",
        "general_data.select([count(when(isnull(c), c)).alias(c) for c in general_data.columns]).show()"
      ],
      "execution_count": null,
      "outputs": []
    },
    {
      "cell_type": "code",
      "metadata": {
        "colab": {
          "base_uri": "https://localhost:8080/"
        },
        "id": "X9pYTvvNe3tJ",
        "outputId": "a1d320c5-4885-41dd-e5f2-6d32a0eb7489"
      },
      "source": [
        "# duplicated values: general data\n",
        "if general_data.count() == general_data.drop_duplicates().count():\n",
        "  print('No duplicated records.')"
      ],
      "execution_count": null,
      "outputs": []
    },
    {
      "cell_type": "code",
      "metadata": {
        "id": "QQSZAjLHj6F7"
      },
      "source": [
        "# feature engineering for clustering\n",
        "# numerlize categorical data\n",
        "# Rate: low, medium, high: 0, 1, 2\n",
        "# foot: left, right: 1, 0\n",
        "cluster_data_prepipe = Pipeline(stages=[\n",
        "                                StringIndexerModel.from_labels(['Low', 'Medium', 'High'], inputCol='Attack_workrate', outputCol='Attack_workrate_num'),\n",
        "                                StringIndexerModel.from_labels(['Low', 'Medium', 'High'], inputCol='Defend_workrate', outputCol='Defend_workrate_num'),\n",
        "                                StringIndexer(inputCols=[\"preferred_foot\", \"body_type\", \"Positon_General\"], outputCols=[\"preferred_foot_num\", \"body_type_num\", \"Positon_General_num\"]),\n",
        "                                OneHotEncoder(inputCols=['preferred_foot_num', 'body_type_num'], outputCols=['foot', 'body'])\n",
        "])"
      ],
      "execution_count": null,
      "outputs": []
    },
    {
      "cell_type": "code",
      "metadata": {
        "id": "f1jLxhYkjP_Z"
      },
      "source": [
        "cluster_data_xformed = cluster_data_prepipe.fit(general_data).transform(general_data)"
      ],
      "execution_count": null,
      "outputs": []
    },
    {
      "cell_type": "code",
      "metadata": {
        "id": "zsVJzM6xB60X"
      },
      "source": [
        "# feature engineering for others\n",
        "data_prepipe = Pipeline(stages=[\n",
        "                                StringIndexerModel.from_labels(['Low', 'Medium', 'High'], inputCol='Attack_workrate', outputCol='Attack_workrate_num'),\n",
        "                                StringIndexerModel.from_labels(['Low', 'Medium', 'High'], inputCol='Defend_workrate', outputCol='Defend_workrate_num'),\n",
        "                                StringIndexer(inputCols=[\"preferred_foot\", \"Positon_General\"], outputCols=[\"preferred_foot_\", \"Positon_label\"])\n",
        "])"
      ],
      "execution_count": null,
      "outputs": []
    },
    {
      "cell_type": "code",
      "metadata": {
        "id": "dVJmFbVWCHGx"
      },
      "source": [
        "general_data_xformed = data_prepipe.fit(general_data).transform(general_data)\n",
        "general_data_xformed = general_data_xformed.drop('preferred_foot').\\\n",
        "                      withColumnRenamed('preferred_foot_','preferred_foot')"
      ],
      "execution_count": null,
      "outputs": []
    },
    {
      "cell_type": "code",
      "metadata": {
        "id": "fsJIxGCzCHZh"
      },
      "source": [
        "#select numeric columns as features\n",
        "feature_col = []\n",
        "for cols,types in general_data_xformed.dtypes:\n",
        "  if types in ['int','double']:\n",
        "    feature_col.append(cols)\n",
        "#remove target\n",
        "feature_col.remove('value_eur')\n",
        "feature_col.remove('Positon_label')\n",
        "feature_col.remove('overall')\n",
        "feature_col.remove('potential')"
      ],
      "execution_count": null,
      "outputs": []
    },
    {
      "cell_type": "code",
      "metadata": {
        "id": "m_7eswZBCHig"
      },
      "source": [
        "#train test set split\n",
        "train_set, test_set = general_data_xformed.randomSplit([0.7,0.3],seed = 0)"
      ],
      "execution_count": null,
      "outputs": []
    },
    {
      "cell_type": "markdown",
      "metadata": {
        "id": "apGgX1dcCQA0"
      },
      "source": [
        "## Regression modle"
      ]
    },
    {
      "cell_type": "code",
      "metadata": {
        "id": "DUFRQnFyCH10"
      },
      "source": [
        "#skip time-consuming process grid search\n",
        "Grid_search = True"
      ],
      "execution_count": null,
      "outputs": []
    },
    {
      "cell_type": "markdown",
      "metadata": {
        "id": "Ielfl329CWem"
      },
      "source": [
        "### Linear regression"
      ]
    },
    {
      "cell_type": "code",
      "metadata": {
        "id": "JtfNxKTqCIBG"
      },
      "source": [
        "#define r square evaluator\n",
        "r_square = RegressionEvaluator(labelCol='value_eur', metricName='r2')\n",
        "#define mse evaluator\n",
        "mse = RegressionEvaluator(labelCol='value_eur', metricName='mse')"
      ],
      "execution_count": null,
      "outputs": []
    },
    {
      "cell_type": "markdown",
      "metadata": {
        "id": "o6nuJLDxCqga"
      },
      "source": [
        "#### Basic model training and evaluating"
      ]
    },
    {
      "cell_type": "code",
      "metadata": {
        "id": "3GYZsjDPCnDZ"
      },
      "source": [
        "#make linear regression pipeline and train the model\n",
        "va = VectorAssembler(inputCols = feature_col,\n",
        "                     outputCol = 'features')\n",
        "lr = LinearRegression(featuresCol = 'features',\n",
        "                      labelCol='value_eur',\n",
        "                      predictionCol = 'prediction').\\\n",
        "                      setMaxIter(10)\n",
        "LR_pipe = Pipeline(stages = [va,lr])\n",
        "LR_pipe_fitted = LR_pipe.fit(train_set)\n",
        "Predict_LR = LR_pipe_fitted.transform(test_set)"
      ],
      "execution_count": null,
      "outputs": []
    },
    {
      "cell_type": "code",
      "metadata": {
        "colab": {
          "base_uri": "https://localhost:8080/"
        },
        "id": "eK3DiTPBCuSO",
        "outputId": "9043dd8f-53fe-48a2-b5b4-de4b7bf65cbb"
      },
      "source": [
        "#mse evaluator\n",
        "lr_mse = mse.evaluate(Predict_LR)\n",
        "#r^2 evaluator\n",
        "lr_r2 = r_square.evaluate(Predict_LR)\n",
        "print('basic model evaluation:\\n ''mse:',lr_mse,'\\n r2:',lr_r2)"
      ],
      "execution_count": null,
      "outputs": []
    },
    {
      "cell_type": "markdown",
      "metadata": {
        "id": "v5SuE7cWCzBA"
      },
      "source": [
        "#### Elastic net regurlarization"
      ]
    },
    {
      "cell_type": "code",
      "metadata": {
        "id": "gACR6eqxCz9r"
      },
      "source": [
        "#add elastic net regularization to linear regression\n",
        "elastic_net_alpha = np.arange(0,1,.3)\n",
        "elastic_net_lambda = np.arange(.00,.90,.15)\n",
        "#do grid search using each parameters\n",
        "grid = ParamGridBuilder()\\\n",
        "          .addGrid(lr.regParam, elastic_net_lambda ) \\\n",
        "          .addGrid(lr.elasticNetParam, elastic_net_alpha) \\\n",
        "          .build()\n",
        "cv = CrossValidator(estimator=LR_pipe,\n",
        "                                estimatorParamMaps=grid,\n",
        "                                evaluator=r_square,\n",
        "                                numFolds = 3,\n",
        "                                seed = 0)\n",
        "lr_cv = cv.fit(train_set)"
      ],
      "execution_count": null,
      "outputs": []
    },
    {
      "cell_type": "code",
      "metadata": {
        "id": "V3Ddt49MC1ZA"
      },
      "source": [
        "#train the model with best hyperparameter\n",
        "MaxIter = lr_cv.bestModel.stages[-1].getMaxIter()\n",
        "ElasticNetParam = lr_cv.bestModel.stages[-1].getElasticNetParam()\n",
        "RegParam = lr_cv.bestModel.stages[-1].getRegParam()\n",
        "# RegParam = 0.75\n",
        "# ElasticNetParam = 0\n",
        "va = VectorAssembler(inputCols = feature_col,\n",
        "                     outputCol = 'features')\n",
        "lr = LinearRegression(featuresCol = 'features',\n",
        "                      labelCol='value_eur',\n",
        "                      predictionCol = 'prediction',\n",
        "                      maxIter = MaxIter,\n",
        "                      regParam = RegParam,\n",
        "                      elasticNetParam = ElasticNetParam)\n",
        "LR_pipe_best = Pipeline(stages = [va,lr])\n",
        "LR_pipe_fitted_best = LR_pipe_best.fit(train_set)\n",
        "Predict_best_LR = LR_pipe_fitted_best.transform(test_set)"
      ],
      "execution_count": null,
      "outputs": []
    },
    {
      "cell_type": "code",
      "metadata": {
        "colab": {
          "base_uri": "https://localhost:8080/"
        },
        "id": "1_Hqyo_IC29h",
        "outputId": "5fb256c6-6b5c-433e-fff2-1a6ff5de2137"
      },
      "source": [
        "#mse of best model\n",
        "test_mse_linear = mse.evaluate(Predict_best_LR)\n",
        "#r2 of the best model\n",
        "test_r2_linear = r_square.evaluate(Predict_best_LR)\n",
        "print('Model after tuning evaluation:\\n ''mse:',test_mse_linear,'\\n r2:',test_r2_linear)"
      ],
      "execution_count": null,
      "outputs": []
    },
    {
      "cell_type": "code",
      "metadata": {
        "id": "r63MOI-kC5Eb"
      },
      "source": [
        "coef = LR_pipe_fitted_best.stages[-1].coefficients\n",
        "ipt = LR_pipe_fitted_best.stages[-1].intercept"
      ],
      "execution_count": null,
      "outputs": []
    },
    {
      "cell_type": "markdown",
      "metadata": {
        "id": "Q82HDCRXC6zk"
      },
      "source": [
        "#### Model performance result"
      ]
    },
    {
      "cell_type": "code",
      "metadata": {
        "colab": {
          "base_uri": "https://localhost:8080/",
          "height": 296
        },
        "id": "QC7FG3aeC8Wx",
        "outputId": "6a06c4c3-8644-43c0-fe0f-f90e99db272d"
      },
      "source": [
        "#visualiza prediction and value_eur to\n",
        "Predict_best_LR.select('prediction', 'value_eur').toPandas().plot(x = 'value_eur', y = 'prediction', kind = 'scatter')\n",
        "plt.rc('font', size=10)\n",
        "plt.title('Prediction_linear vs. value_eur')\n",
        "plt.show()\n",
        "#The model is strongly linear related"
      ],
      "execution_count": null,
      "outputs": []
    },
    {
      "cell_type": "markdown",
      "metadata": {
        "id": "EFIatNlfDCYe"
      },
      "source": [
        "### Random Forest Regression"
      ]
    },
    {
      "cell_type": "code",
      "metadata": {
        "id": "XLK7CdElDBRH"
      },
      "source": [
        "#make and train randomforest regressor pipeline\n",
        "rfr = RandomForestRegressor(featuresCol='features', labelCol = 'value_eur',\n",
        "                            seed = 0)\n",
        "rfr_pipe = Pipeline(stages=[va,rfr])\n",
        "rfr_fitted = rfr_pipe.fit(train_set)"
      ],
      "execution_count": null,
      "outputs": []
    },
    {
      "cell_type": "code",
      "metadata": {
        "id": "M_OzA0VUDQ66"
      },
      "source": [
        "#tranform\n",
        "rfr_pred = rfr_fitted.transform(test_set)"
      ],
      "execution_count": null,
      "outputs": []
    },
    {
      "cell_type": "code",
      "metadata": {
        "colab": {
          "base_uri": "https://localhost:8080/"
        },
        "id": "SLhiZ-44DSE-",
        "outputId": "0ef52d73-6483-4822-8390-5f90a48aa36d"
      },
      "source": [
        "#mse of the model\n",
        "rf_mse = mse.evaluate(rfr_pred)\n",
        "#r2 of the best model\n",
        "rf_r2 = r_square.evaluate(rfr_pred)\n",
        "print('Basic model:\\n ''mse:',rf_mse,'\\n r2:',rf_r2)"
      ],
      "execution_count": null,
      "outputs": []
    },
    {
      "cell_type": "markdown",
      "metadata": {
        "id": "gF6JhwJ2DWB_"
      },
      "source": [
        "#### Hyperparameter tuning"
      ]
    },
    {
      "cell_type": "code",
      "metadata": {
        "colab": {
          "base_uri": "https://localhost:8080/",
          "height": 426
        },
        "id": "AmfnINWDDXB-",
        "outputId": "17539362-510d-42ee-a31c-b27fa0cdc9da"
      },
      "source": [
        "#do grid search to find best model\n",
        "rf = RandomForestRegressor().\\\n",
        "      setFeaturesCol('features').\\\n",
        "      setLabelCol('value_eur')\n",
        "rf_pipe = Pipeline(stages=[va, rf])\n",
        "#build parameters grid and cross validation model\n",
        "grid = ParamGridBuilder().\\\n",
        "          addGrid(rf.numTrees,[10,50,100]).\\\n",
        "          addGrid(rf.maxDepth,[10,20]).\\\n",
        "          addGrid(rf.minInstancesPerNode,[10,50]).\\\n",
        "          addGrid(rf.subsamplingRate,[0.1,0.2]).\\\n",
        "          build()\n",
        "rf_cv = CrossValidator(estimator=rf_pipe,\n",
        "                      estimatorParamMaps = grid,\n",
        "                      evaluator = mse,\n",
        "                      numFolds=2,\n",
        "                      seed = 0)\n",
        "rf_cv_fitted = rf_cv.fit(general_data_xformed)"
      ],
      "execution_count": null,
      "outputs": []
    },
    {
      "cell_type": "code",
      "metadata": {
        "id": "_fTBjxyaDY9D"
      },
      "source": [
        "#extract hyperparameter of best model\n",
        "NumTrees = rf_cv_fitted.bestModel.stages[1].getNumTrees\n",
        "MinInstancesPerNode = rf_cv_fitted.bestModel.stages[1].getMinInstancesPerNode()\n",
        "MaxDepth = rf_cv_fitted.bestModel.stages[1].getMaxDepth()\n",
        "SubsamplingRate = rf_cv_fitted.bestModel.stages[1].getSubsamplingRate()\n",
        "# NumTrees = 100\n",
        "# MinInstancesPerNode = 10\n",
        "# MaxDepth = 20\n",
        "# SubsamplingRate = 0.2\n",
        "#construct rf model with the best hyperparameter\n",
        "rf = RandomForestRegressor(numTrees=NumTrees,\n",
        "                           maxDepth = MaxDepth,\n",
        "                           subsamplingRate = SubsamplingRate,\n",
        "                           minInstancesPerNode = MinInstancesPerNode,\n",
        "                           seed = 0).\\\n",
        "     setFeaturesCol('features').\\\n",
        "     setLabelCol('value_eur')\n",
        "rf_bpipe = Pipeline(stages=[va, rf])\n",
        "best_pipe = rf_bpipe.fit(train_set)"
      ],
      "execution_count": null,
      "outputs": []
    },
    {
      "cell_type": "code",
      "metadata": {
        "id": "-2BtPxKBDc8w"
      },
      "source": [
        "#fit model with test data set\n",
        "rfr_best_df = best_pipe.transform(test_set)"
      ],
      "execution_count": null,
      "outputs": []
    },
    {
      "cell_type": "code",
      "metadata": {
        "id": "ro1cEkTyDeFy"
      },
      "source": [
        "#rmse of best randomforest model\n",
        "test_mse_rf = mse.evaluate(rfr_best_df)\n",
        "#r_square of the best randomforest\n",
        "test_r2_rf = r_square.evaluate(rfr_best_df)\n",
        "print('Model after tuning:\\n ''mse:',test_mse_rf,'\\n r2:',test_r2_rf)"
      ],
      "execution_count": null,
      "outputs": []
    },
    {
      "cell_type": "markdown",
      "metadata": {
        "id": "MSA4JGsYDg8C"
      },
      "source": [
        "#### Feature importance visualization"
      ]
    },
    {
      "cell_type": "code",
      "metadata": {
        "id": "9LF6yrRKDfWu"
      },
      "source": [
        "#out put feature importances\n",
        "featureImportances = pd.DataFrame(list(zip(feature_col, best_pipe.stages[-1].featureImportances)),\n",
        "            columns = ['column', 'importance']).sort_values('importance', ascending = False)\n",
        "featureImportances[featureImportances['importance'] > .01].plot(y='importance', x='column', kind = \"bar\" )\n",
        "plt.xlabel('features')\n",
        "plt.ylabel('importance')\n",
        "plt.title('Feature Importances plot')\n",
        "plt.show()"
      ],
      "execution_count": null,
      "outputs": []
    },
    {
      "cell_type": "markdown",
      "metadata": {
        "id": "0GrHEITADkz7"
      },
      "source": [
        "### Gradient Boosting Machine Regression"
      ]
    },
    {
      "cell_type": "code",
      "metadata": {
        "id": "cLkvKKe2DiaL"
      },
      "source": [
        "#do a grid search\n",
        "gbt = GBTRegressor(maxIter = 10, maxDepth = 4, seed = 0).\\\n",
        "      setFeaturesCol('features').\\\n",
        "      setLabelCol('value_eur')\n",
        "gbt_pipe = Pipeline(stages=[va, gbt])\n",
        "#build parameters grid and cross validation model \n",
        "#search for the best learning rate of GBM\n",
        "train_r2 = []\n",
        "test_r2 = []\n",
        "stepsize = np.arange(0.1,0.9,0.1)\n",
        "for step in stepsize:\n",
        "  grid_gbt = ParamGridBuilder().\\\n",
        "          addGrid(gbt.stepSize,[step]).\\\n",
        "            build()\n",
        "  gbt_cv = CrossValidator(estimator=gbt_pipe,\n",
        "                        estimatorParamMaps = grid_gbt,\n",
        "                        evaluator = mse,\n",
        "                        numFolds=2,\n",
        "                        seed = 0)\n",
        "  gbt_cv_fitted = gbt_cv.fit(general_data_xformed)\n",
        "  train_r2.append(r_square.evaluate(gbt_cv_fitted.bestModel.transform(train_set)))\n",
        "  test_r2.append(r_square.evaluate(gbt_cv_fitted.bestModel.transform(test_set)))"
      ],
      "execution_count": null,
      "outputs": []
    },
    {
      "cell_type": "code",
      "metadata": {
        "id": "kg7eluRPDt-k"
      },
      "source": [
        "#visualize train r2 & test r2 vs. learning rate\n",
        "#learning rate - 0.6\n",
        "plt.figure(figsize=(10,10))\n",
        "plt.plot(stepsize, train_r2, 'o-', linewidth=2, label=\"Train Set\")\n",
        "plt.plot(stepsize, test_r2, 'o-', linewidth=2, label=\"Test Set\")\n",
        "plt.title('train r2 & test r2 vs. learning rate')\n",
        "plt.xlabel(\"learning rate\")\n",
        "plt.ylabel(\"r^2\")\n",
        "plt.legend()\n",
        "plt.show()"
      ],
      "execution_count": null,
      "outputs": []
    },
    {
      "cell_type": "code",
      "metadata": {
        "id": "e3ZK8MaVD163"
      },
      "source": [
        "#CV model contains pipe model containing gbtregressor\n",
        "gbt_best = GBTRegressor(maxDepth=10,\n",
        "                        stepSize=0.5,\n",
        "                        maxIter=4,\n",
        "                        seed = 0).\\\n",
        "                        setFeaturesCol('features').\\\n",
        "                        setLabelCol('value_eur')\n",
        "gbt_best_pipe = Pipeline(stages=[va, gbt_best])\n",
        "gbt_best_fitted = gbt_best_pipe.fit(train_set)\n",
        "gbt_test_df  = gbt_best_fitted.transform(test_set)\n",
        "test_mse_gbt = round(mse.evaluate(gbt_test_df),2)\n",
        "test_r2_gbt = round(r_square.evaluate(gbt_test_df),2)\n",
        "print('Model after tuning:\\n ''mse:',test_mse_gbt,'\\n r2:',test_r2_gbt)"
      ],
      "execution_count": null,
      "outputs": []
    },
    {
      "cell_type": "markdown",
      "metadata": {
        "id": "KYMKKkcID7YL"
      },
      "source": [
        "### Linear model comparation"
      ]
    },
    {
      "cell_type": "code",
      "metadata": {
        "id": "DsWj9ZpcD73b"
      },
      "source": [
        "#model comparation\n",
        "compare_df = pd.DataFrame(list(zip(['LR',' RF','GBT'], [test_mse_linear, test_mse_rf, test_mse_gbt],\n",
        "                                     [test_r2_linear, test_r2_rf, test_r2_gbt])),\n",
        "            columns = ['model', 'mse','r^2'])\n",
        "display(compare_df)"
      ],
      "execution_count": null,
      "outputs": []
    },
    {
      "cell_type": "markdown",
      "metadata": {
        "id": "_ilkqY7uD939"
      },
      "source": [
        "## Classification modle"
      ]
    },
    {
      "cell_type": "code",
      "metadata": {
        "id": "wnfJD_msD_as"
      },
      "source": [
        "#define auto f1 score evaluator\n",
        "def f1_evaluation(model_pipeline, model_fitted, data):\n",
        "  return MulticlassClassificationEvaluator(labelCol=model_pipeline.getStages()[-1].getLabelCol(), \n",
        "                                predictionCol=model_pipeline.getStages()[-1].getPredictionCol()).\\\n",
        "    evaluate(model_fitted.transform(data))\n",
        "#define auto accuracy evaluator\n",
        "def accuracy_evaluation(model_pipeline, model_fitted, data):\n",
        "  return MulticlassClassificationEvaluator(labelCol=model_pipeline.getStages()[-1].getLabelCol(),\n",
        "                                           metricName = 'accuracy', \n",
        "                                predictionCol=model_pipeline.getStages()[-1].getPredictionCol()).\\\n",
        "    evaluate(model_fitted.transform(data))\n",
        "#define f1 multiclass evaluator\n",
        "f1 = MulticlassClassificationEvaluator(labelCol='Positon_label', predictionCol='prediction')\n",
        "#define accuracy multiclass evaluator\n",
        "accuracy = MulticlassClassificationEvaluator(labelCol='Positon_label', predictionCol='prediction',\n",
        "                                             metricName = 'accuracy')"
      ],
      "execution_count": null,
      "outputs": []
    },
    {
      "cell_type": "markdown",
      "metadata": {
        "id": "umKksHEgEMqf"
      },
      "source": [
        "### Multi-class logistic regression"
      ]
    },
    {
      "cell_type": "markdown",
      "metadata": {
        "id": "VE7LaYkuEY-3"
      },
      "source": [
        "#### Basic model training and evaluating"
      ]
    },
    {
      "cell_type": "code",
      "metadata": {
        "id": "XU6bhJmRELsB"
      },
      "source": [
        "#train the model without hyperparametertuning \n",
        "lrc = LogisticRegression(maxIter=10).\\\n",
        "      setLabelCol('Positon_label')\n",
        "lrc_pipe = Pipeline(stages=[va,lrc])\n",
        "lrc_fitted = lrc_pipe.fit(train_set)\n",
        "print('Basic model f1:')\n",
        "lrc_f1 = f1_evaluation(lrc_pipe, lrc_fitted, test_set)\n",
        "print(lrc_f1)\n",
        "print('Basic model accuracy:')\n",
        "lrc_acc = accuracy_evaluation(lrc_pipe, lrc_fitted, test_set)\n",
        "print(lrc_acc)"
      ],
      "execution_count": null,
      "outputs": []
    },
    {
      "cell_type": "markdown",
      "metadata": {
        "id": "8eGD7ZLeEclo"
      },
      "source": [
        "#### Elastic regularization and Grid search"
      ]
    },
    {
      "cell_type": "code",
      "metadata": {
        "id": "Q2lAU76KEd2I"
      },
      "source": [
        "#add regularization to logistic regression\n",
        "elastic_net_alpha = np.arange(0,1,.3)\n",
        "elastic_net_lambda = np.arange(.00,.90,.15)\n",
        "#do grid search to find the best model\n",
        "grid = ParamGridBuilder().\\\n",
        "          addGrid(lr.elasticNetParam,elastic_net_alpha).\\\n",
        "          addGrid(lr.regParam,elastic_net_lambda).\\\n",
        "          build()\n",
        "cv = CrossValidator(estimator=lrc_pipe,\n",
        "                      estimatorParamMaps = grid,\n",
        "                      evaluator = f1,\n",
        "                      numFolds = 3,\n",
        "                      seed = 0)\n",
        "lrc_cv = cv.fit(train_set)"
      ],
      "execution_count": null,
      "outputs": []
    },
    {
      "cell_type": "code",
      "metadata": {
        "id": "MvXL6AYREf28"
      },
      "source": [
        "#output hyperparameters\n",
        "lrc_best = lrc_cv.bestModel\n",
        "lmd = lrc_best.stages[-1].getElasticNetParam()\n",
        "a = lrc_best.stages[-1].getRegParam()\n",
        "print('lambda:',lmd,'\\nalpha:',a)\n",
        "#output f1 score\n",
        "print('f1 after tuning:')\n",
        "lrc_f1 = f1_evaluation(lrc_pipe, lrc_best, test_set)\n",
        "print(lrc_f1)\n",
        "print('Accuracy after tuning:')\n",
        "lrc_accuracy = accuracy_evaluation(lrc_pipe, lrc_best, test_set)\n",
        "print(lrc_accuracy)\n",
        "#model performs the best when there is no regularization"
      ],
      "execution_count": null,
      "outputs": []
    },
    {
      "cell_type": "markdown",
      "metadata": {
        "id": "52O78PXfEjht"
      },
      "source": [
        "#### Model performance evaluation"
      ]
    },
    {
      "cell_type": "code",
      "metadata": {
        "id": "_VzFDro4Ekmt"
      },
      "source": [
        "#extract recall and precision by label from logisticregression summary\n",
        "LRC_summary = lrc_best.stages[-1].summary\n",
        "LRC_summary.accuracy\n",
        "LRC_summary.recallByLabel\n",
        "LRC_summary.precisionByLabel"
      ],
      "execution_count": null,
      "outputs": []
    },
    {
      "cell_type": "code",
      "metadata": {
        "id": "lIZvrFWfElq0"
      },
      "source": [
        "position_name = ['Midfileder','Defender','Attacker','GK']\n",
        "#output recall by label\n",
        "pd.DataFrame(list(zip(position_name, LRC_summary.recallByLabel)),\n",
        "            columns = ['target_label', 'recall'])"
      ],
      "execution_count": null,
      "outputs": []
    },
    {
      "cell_type": "code",
      "metadata": {
        "id": "wMvFWq1bEmpz"
      },
      "source": [
        "#output recall, precision, data table\n",
        "#output precision by label\n",
        "pd.DataFrame(list(zip(position_name, LRC_summary.precisionByLabel)),\n",
        "            columns = ['target_label', 'precision'])"
      ],
      "execution_count": null,
      "outputs": []
    },
    {
      "cell_type": "markdown",
      "metadata": {
        "id": "ebOxsoJMEp45"
      },
      "source": [
        "Seen that goal keeper player is different to other 3 kinds of players"
      ]
    },
    {
      "cell_type": "markdown",
      "metadata": {
        "id": "P8zJX3TsEsKk"
      },
      "source": [
        "### Random Forest classificition"
      ]
    },
    {
      "cell_type": "markdown",
      "metadata": {
        "id": "4NYX5gXTEycW"
      },
      "source": [
        "#### Basic Model training and evaluation"
      ]
    },
    {
      "cell_type": "code",
      "metadata": {
        "id": "25u3ezT-En3S"
      },
      "source": [
        "#construct pipeline model\n",
        "rfc = RandomForestClassifier(seed = 0).\\\n",
        "      setLabelCol('Positon_label')\n",
        "rfc_pipe = Pipeline(stages=[va,rfc])\n",
        "rfc_fitted = rfc_pipe.fit(train_set)"
      ],
      "execution_count": null,
      "outputs": []
    },
    {
      "cell_type": "code",
      "metadata": {
        "id": "me5h27F5E1Nk"
      },
      "source": [
        "#calculate accuracy\n",
        "print('f1:')\n",
        "rfc_acc = f1_evaluation(rfc_pipe, rfc_fitted, test_set)\n",
        "print(rfc_acc)\n",
        "print('Accuracy:')\n",
        "rfc_acc = accuracy_evaluation(lrc_pipe, lrc_best, test_set)\n",
        "print(rfc_acc)"
      ],
      "execution_count": null,
      "outputs": []
    },
    {
      "cell_type": "markdown",
      "metadata": {
        "id": "wltp-4GaE2Hc"
      },
      "source": [
        "#### Hyperparameter tuning"
      ]
    },
    {
      "cell_type": "code",
      "metadata": {
        "id": "8yv3H1u5E3kv",
        "tags": []
      },
      "source": [
        "#do a grid search\n",
        "grid = ParamGridBuilder().\\\n",
        "          addGrid(rfc.numTrees,[10,50,100]).\\\n",
        "          addGrid(rfc.maxDepth,[10,20]).\\\n",
        "          addGrid(rfc.impurity,['gini','entropy']).\\\n",
        "          build()\n",
        "rfc_cv = CrossValidator(estimator=rfc_pipe,\n",
        "                        estimatorParamMaps = grid,\n",
        "                      evaluator = f1,\n",
        "                      numFolds=2,\n",
        "                      seed = 0)\n",
        "rfc_cv_fitted = rfc_cv.fit(general_data_xformed)"
      ],
      "execution_count": null,
      "outputs": []
    },
    {
      "cell_type": "code",
      "metadata": {
        "id": "07si8mcJE4k2"
      },
      "source": [
        "#extract hyperparameter of best model\n",
        "NumTrees = rfc_cv_fitted.bestModel.stages[1].getNumTrees\n",
        "MaxDepth = rfc_cv_fitted.bestModel.stages[1].getMaxDepth()\n",
        "Impurity = rfc_cv_fitted.bestModel.stages[1].getImpurity()\n",
        "rfc_best = RandomForestClassifier(numTrees=NumTrees,\n",
        "                           maxDepth = MaxDepth,\n",
        "                           subsamplingRate = SubsamplingRate,\n",
        "                           minInstancesPerNode = MinInstancesPerNode,\n",
        "                           impurity = Impurity,\n",
        "                           seed = 0).\\\n",
        "                            setFeaturesCol('features').\\\n",
        "                           setLabelCol('Positon_label')\n",
        "rfc_bpipe = Pipeline(stages=[va, rfc_best])\n",
        "rfc_best_pipe = rfc_bpipe.fit(train_set)"
      ],
      "execution_count": null,
      "outputs": []
    },
    {
      "cell_type": "code",
      "metadata": {
        "id": "n0PembwoE7_h"
      },
      "source": [
        "rfc_best_pipe.transform(test_set)"
      ],
      "execution_count": null,
      "outputs": []
    },
    {
      "cell_type": "code",
      "metadata": {
        "id": "__15YySXE8ad"
      },
      "source": [
        "#calculate f1 score\n",
        "print('f1 after tuning:')\n",
        "rfc_best_f1 = f1_evaluation(rfc_pipe, rfc_best_pipe, test_set)\n",
        "print(rfc_best_f1)\n",
        "#calculate accuracy\n",
        "print('Accuracy after tuning:')\n",
        "rfc_best_acc = accuracy_evaluation(rfc_pipe, rfc_best_pipe, test_set)\n",
        "print(rfc_best_acc)"
      ],
      "execution_count": null,
      "outputs": []
    },
    {
      "cell_type": "markdown",
      "metadata": {
        "id": "yuX300z8E_t-"
      },
      "source": [
        "#### Feature Importance visualization"
      ]
    },
    {
      "cell_type": "code",
      "metadata": {
        "id": "Nz6bn_-6FAb7"
      },
      "source": [
        "#output feature imporatances\n",
        "featureImportances = pd.DataFrame(list(zip(feature_col, rfc_best_pipe.stages[-1].featureImportances)),\n",
        "            columns = ['column', 'weight']).sort_values('weight', ascending = False)\n",
        "featureImportances[featureImportances['weight'] > .03].plot(y='weight', x='column', kind = \"bar\" )\n",
        "plt.title('Feature Importances plot')\n",
        "plt.xlabel('features')\n",
        "plt.ylabel('importance')\n",
        "plt.show()"
      ],
      "execution_count": null,
      "outputs": []
    },
    {
      "cell_type": "code",
      "metadata": {
        "id": "512kNl1m9EHg"
      },
      "source": [
        "# clustering and recommender system"
      ],
      "execution_count": null,
      "outputs": []
    },
    {
      "cell_type": "code",
      "metadata": {
        "id": "mCfOKdv90kZq"
      },
      "source": [
        "# find out all columns we need for pca, clustering and recommender system\n",
        "remove_columns = ['short_name', 'dob', 'nationality', 'club', 'preferred_foot', 'body_type', 'Position', 'Attack_workrate', 'Defend_workrate', 'Positon_General']\n",
        "va_columns = list(set(cluster_data_xformed.columns) - set(remove_columns))"
      ],
      "execution_count": null,
      "outputs": []
    },
    {
      "cell_type": "code",
      "metadata": {
        "id": "uVfpDDoOqG8K"
      },
      "source": [
        "# vector assemble and standardization\n",
        "recommender_va = VectorAssembler(inputCols=va_columns, outputCol='feature')"
      ],
      "execution_count": null,
      "outputs": []
    },
    {
      "cell_type": "code",
      "metadata": {
        "id": "wsTbC5CSwedQ"
      },
      "source": [
        "standardization = StandardScaler(withMean=True, withStd=True, inputCol='feature', outputCol='std_feature')"
      ],
      "execution_count": null,
      "outputs": []
    },
    {
      "source": [
        "## Clustering model"
      ],
      "cell_type": "markdown",
      "metadata": {}
    },
    {
      "source": [
        "### Recommender system"
      ],
      "cell_type": "markdown",
      "metadata": {}
    },
    {
      "cell_type": "code",
      "metadata": {
        "id": "-GOLyfMu53HK"
      },
      "source": [
        "# recommender system\n",
        "recommender_pca = PCA(k=2, inputCol='std_feature', outputCol='scores')\n",
        "recommender_pipe = Pipeline(stages=[recommender_va, standardization, recommender_pca]).fit(cluster_data_xformed)\n",
        "recommender_data = recommender_pipe.transform(cluster_data_xformed)"
      ],
      "execution_count": null,
      "outputs": []
    },
    {
      "cell_type": "code",
      "metadata": {
        "id": "A3yVeHg161Lh"
      },
      "source": [
        "def l2_dist(c1, c2):    \n",
        "    return float(np.sqrt((c1 - c2).T.dot((c1 - c2))))\n",
        "\n",
        "l2_dist_udf = udf(l2_dist, FloatType())"
      ],
      "execution_count": null,
      "outputs": []
    },
    {
      "cell_type": "code",
      "metadata": {
        "id": "PS_4FGNk65-A"
      },
      "source": [
        "def recommender_system(name, num_players):\n",
        "  try:\n",
        "    cha = list([name])\n",
        "    num = int(num_players)\n",
        "  except:\n",
        "    return 'Check your inputs!'\n",
        "\n",
        "  condition = (col('short_name') == cha[0])\n",
        "\n",
        "  length_check = (len(cha) == 1)\n",
        "  exist_check = recommender_data.where(condition).count() !=0\n",
        "\n",
        "  if length_check & exist_check:\n",
        "    \n",
        "    result_df = recommender_data.where(condition).select(col(\"scores\").alias('target_scores')).join(recommender_data).withColumn('dist', l2_dist_udf('scores', 'target_scores')).\\\n",
        "    select(\"short_name\", \"overall\", \"Position\", 'value_eur',\"dist\").\\\n",
        "    orderBy(asc(\"dist\")).\\\n",
        "    limit(num+1)\n",
        "\n",
        "    result = result_df.select('short_name').rdd.map(lambda x: x['short_name']).collect()\n",
        "    result.remove(cha[0])\n",
        "  else:\n",
        "    return 'Check your inputs!'\n",
        "  \n",
        "  return result_df.show()"
      ],
      "execution_count": null,
      "outputs": []
    },
    {
      "source": [
        "#### Result"
      ],
      "cell_type": "markdown",
      "metadata": {}
    },
    {
      "cell_type": "code",
      "metadata": {
        "colab": {
          "base_uri": "https://localhost:8080/"
        },
        "id": "tDhaMOR17mJr",
        "outputId": "4aa5d4d2-1581-49a4-d412-16153b9f903b"
      },
      "source": [
        "recommender_system('L. Messi',5)"
      ],
      "execution_count": null,
      "outputs": []
    },
    {
      "cell_type": "code",
      "metadata": {
        "colab": {
          "base_uri": "https://localhost:8080/"
        },
        "id": "9PDwGkWsACeY",
        "outputId": "55da4c7b-55be-4817-cf3d-9117fa473545"
      },
      "source": [
        "recommender_system('Cristiano Ronaldo',5)"
      ],
      "execution_count": null,
      "outputs": []
    },
    {
      "cell_type": "code",
      "metadata": {
        "colab": {
          "base_uri": "https://localhost:8080/"
        },
        "id": "eBAygB0QAQJg",
        "outputId": "5927e043-f554-4727-c217-f7d025dbb8f5"
      },
      "source": [
        "recommender_system('J. Oblak',5)"
      ],
      "execution_count": null,
      "outputs": []
    },
    {
      "cell_type": "code",
      "metadata": {
        "colab": {
          "base_uri": "https://localhost:8080/"
        },
        "id": "Uhc71nDZAcLo",
        "outputId": "f6c97984-2e9e-4ca3-a01f-4f441d5f771c"
      },
      "source": [
        "recommender_system('V. van Dijk',5)"
      ],
      "execution_count": null,
      "outputs": []
    },
    {
      "cell_type": "code",
      "metadata": {
        "colab": {
          "base_uri": "https://localhost:8080/"
        },
        "id": "-rVdJbH-AmJB",
        "outputId": "4ea018e6-b00d-48e4-9830-4b6282122db1"
      },
      "source": [
        "recommender_system('K. De Bruyne',5)"
      ],
      "execution_count": null,
      "outputs": []
    },
    {
      "source": [
        "#### Inference analysis"
      ],
      "cell_type": "markdown",
      "metadata": {}
    },
    {
      "cell_type": "code",
      "metadata": {
        "id": "h6j0eNLw7nvo"
      },
      "source": [
        "# inference analysis\n",
        "pca_model = recommender_pipe.stages[-1]"
      ],
      "execution_count": null,
      "outputs": []
    },
    {
      "cell_type": "code",
      "metadata": {
        "id": "p3nvfO1w8jJ8"
      },
      "source": [
        "pc1 = pca_model.pc.toArray()[:, 0].tolist()\n",
        "pc_loadings = pd.DataFrame([va_columns, np.abs(pc1)]).T.rename(columns={0: 'word', 1:'loading'})"
      ],
      "execution_count": null,
      "outputs": []
    },
    {
      "cell_type": "code",
      "metadata": {
        "id": "5hYg1Ci__RPk"
      },
      "source": [
        "most_imp_df = pc_loadings.sort_values('loading', ascending=False).head(10)\n",
        "least_imp_df = pc_loadings.sort_values('loading', ascending=True).head(10)"
      ],
      "execution_count": null,
      "outputs": []
    },
    {
      "cell_type": "code",
      "metadata": {
        "colab": {
          "base_uri": "https://localhost:8080/",
          "height": 701
        },
        "id": "6-QT6HYX_WjO",
        "outputId": "be778203-c522-4237-b517-a20de2840e2e"
      },
      "source": [
        "display(most_imp_df)\n",
        "display(least_imp_df)"
      ],
      "execution_count": null,
      "outputs": []
    },
    {
      "source": [
        "###"
      ],
      "cell_type": "markdown",
      "metadata": {}
    },
    {
      "source": [
        "### Clustering"
      ],
      "cell_type": "markdown",
      "metadata": {}
    },
    {
      "cell_type": "code",
      "metadata": {
        "colab": {
          "base_uri": "https://localhost:8080/"
        },
        "id": "uj8Zj4Nh3XmU",
        "outputId": "a599e8a6-f2d5-4026-ecc3-3c2a01a93135"
      },
      "source": [
        "# check number of pca we need\n",
        "# According to ISLR, \"There are at most min(n - 1; p) principal components\" where n is the number of rows, 18278 and p is the number of cols, 50.\n",
        "min(cluster_data_xformed.count()-1, len(va_columns))"
      ],
      "execution_count": null,
      "outputs": []
    },
    {
      "cell_type": "code",
      "metadata": {
        "id": "a-SdITns3qo3"
      },
      "source": [
        "pca = PCA(k=50, inputCol='std_feature', outputCol='scores')"
      ],
      "execution_count": null,
      "outputs": []
    },
    {
      "cell_type": "code",
      "metadata": {
        "id": "PG_M9iJ_4AUX"
      },
      "source": [
        "# create pipeline for all above transformation\n",
        "pca_pipe = Pipeline(stages=[recommender_va, standardization, pca]).fit(cluster_data_xformed)\n",
        "pca_data = recommender_pipe.transform(cluster_data_xformed)"
      ],
      "execution_count": null,
      "outputs": []
    },
    {
      "cell_type": "code",
      "metadata": {
        "colab": {
          "base_uri": "https://localhost:8080/"
        },
        "id": "aB5ynST14JQE",
        "outputId": "82db3dfa-ef45-4563-9bf8-2cf3fe443b95"
      },
      "source": [
        "# account for 99% variance of original data\n",
        "sum(pca_pipe.stages[-1].explainedVariance)"
      ],
      "execution_count": null,
      "outputs": []
    },
    {
      "cell_type": "code",
      "metadata": {
        "colab": {
          "base_uri": "https://localhost:8080/",
          "height": 312
        },
        "id": "qogj1eYz43WP",
        "outputId": "5cbef5de-03ed-48ce-8c46-4fc8a0e51259"
      },
      "source": [
        "plt.figure()\n",
        "explained_var = pca_pipe.stages[-1].explainedVariance\n",
        "plt.plot(np.arange(1, len(explained_var)+1), explained_var)\n",
        "plt.grid(True)\n",
        "plt.title(\"Scree Plot\")\n",
        "plt.xlabel(\"Principal Component\")\n",
        "plt.ylabel(\"Proportion Variance Explained\")"
      ],
      "execution_count": null,
      "outputs": []
    },
    {
      "cell_type": "code",
      "metadata": {
        "colab": {
          "base_uri": "https://localhost:8080/",
          "height": 312
        },
        "id": "O1Vrns8e5Bhw",
        "outputId": "b4c964c9-3e88-425b-c54d-9a779db75219"
      },
      "source": [
        "cum_sum = np.cumsum(explained_var)\n",
        "plt.figure()\n",
        "plt.plot(np.arange(1, len(explained_var)+1), cum_sum)\n",
        "plt.grid(True)\n",
        "plt.title(\"Cumulative Sum of Variance Explained\")\n",
        "plt.xlabel(\"Cumulative Components\")\n",
        "plt.ylabel(\"Cumulative Sum of Variance Explained\")"
      ],
      "execution_count": null,
      "outputs": []
    },
    {
      "cell_type": "code",
      "metadata": {
        "id": "FDeGDwTk5kSd"
      },
      "source": [
        "# I choose 30 pca"
      ],
      "execution_count": null,
      "outputs": []
    },
    {
      "cell_type": "code",
      "metadata": {
        "id": "QeDs-IGJF9PL"
      },
      "source": [
        "# K-Means\n",
        "# best pca: 30\n",
        "# recommender system\n",
        "kmeans_pca = PCA(k=30, inputCol='std_feature', outputCol='scores')\n",
        "kmeans_pipe = Pipeline(stages=[recommender_va, standardization, kmeans_pca]).fit(cluster_data_xformed)\n",
        "kmeans_data = kmeans_pipe.transform(cluster_data_xformed)"
      ],
      "execution_count": null,
      "outputs": []
    },
    {
      "cell_type": "code",
      "metadata": {
        "id": "uykGNrWRA31q"
      },
      "source": [
        "km = KMeans(featuresCol='scores', predictionCol='Kmeans_feat')\n",
        "evaluator = ClusteringEvaluator(featuresCol='scores', predictionCol='Kmeans_feat')"
      ],
      "execution_count": null,
      "outputs": []
    },
    {
      "cell_type": "code",
      "metadata": {
        "id": "W_aKazcJBheC"
      },
      "source": [
        "def max_silhouette(k):\n",
        "  score = []\n",
        "  for i in range(3):\n",
        "    km.setK(k)\n",
        "    km.setSeed(int(np.random.randint(100, size=1)))\n",
        "    pred = km.fit(kmeans_data).transform(kmeans_data)\n",
        "    score.append(evaluator.evaluate(pred))\n",
        "  \n",
        "  return max(score)\n"
      ],
      "execution_count": null,
      "outputs": []
    },
    {
      "cell_type": "code",
      "metadata": {
        "id": "KwtqDVxyB_Ns"
      },
      "source": [
        "result = []\n",
        "for i in range(2, 7):\n",
        "  result.append(max_silhouette(i))"
      ],
      "execution_count": null,
      "outputs": []
    },
    {
      "cell_type": "code",
      "metadata": {
        "colab": {
          "base_uri": "https://localhost:8080/",
          "height": 312
        },
        "id": "zSVOiMPvCPK5",
        "outputId": "02478f18-7e12-4694-af5c-36f52297daa5"
      },
      "source": [
        "plt.plot(range(2,7), result)\n",
        "plt.xticks(range(2,7))\n",
        "plt.xlabel('Number of Clusters')\n",
        "plt.ylabel('Silhouette Score')\n",
        "plt.title('Silhouette Score vs Number of Clusters')"
      ],
      "execution_count": null,
      "outputs": []
    },
    {
      "cell_type": "code",
      "metadata": {
        "id": "Y3oaBMMSHtCY"
      },
      "source": [
        "final_km = KMeans(k=2 ,featuresCol='scores', predictionCol='Kmeans_feat')\n",
        "final_data = final_km.fit(recommender_data).transform(recommender_data)"
      ],
      "execution_count": null,
      "outputs": []
    },
    {
      "cell_type": "code",
      "metadata": {
        "id": "SjpHtW94C9DR"
      },
      "source": [
        "X = np.array(final_data.select('scores').rdd.map(lambda x: x['scores']).collect())\n",
        "names = np.array(final_data.select('short_name').rdd.map(lambda x: x['short_name']).collect())"
      ],
      "execution_count": null,
      "outputs": []
    },
    {
      "cell_type": "code",
      "metadata": {
        "id": "a6rxlJweDE52"
      },
      "source": [
        "cluster = final_data.select('Kmeans_feat').collect()"
      ],
      "execution_count": null,
      "outputs": []
    },
    {
      "cell_type": "code",
      "metadata": {
        "colab": {
          "base_uri": "https://localhost:8080/",
          "height": 643
        },
        "id": "aqzXOLJMH7jC",
        "outputId": "31f69a0e-f8bb-4da0-d1fd-a8c30bfe05b0"
      },
      "source": [
        "fig, ax = plt.subplots()\n",
        "fig.set_figheight(10)\n",
        "fig.set_figwidth(15)\n",
        "scatter = ax.scatter(X[:,0], X[:,1], c=cluster)\n",
        "legend = ax.legend(*scatter.legend_elements(), loc=\"upper right\", title=\"Clusters\")\n",
        "ax.add_artist(legend)\n",
        "fig.suptitle(\"PC2 Scores vs. PC1 Scores\", y=.92)\n",
        "ax.set_xlabel(\"PC1\")\n",
        "ax.set_ylabel(\"PC2\")  \n",
        "plt.show()"
      ],
      "execution_count": null,
      "outputs": []
    },
    {
      "cell_type": "code",
      "metadata": {
        "id": "19PICNLBIC89"
      },
      "source": [
        ""
      ],
      "execution_count": null,
      "outputs": []
    }
  ]
}